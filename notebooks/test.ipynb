{
 "cells": [
  {
   "cell_type": "code",
   "execution_count": 28,
   "metadata": {},
   "outputs": [],
   "source": [
    "from dataset import ZindiAudioDataset\n",
    "from models import PalSolModel\n",
    "from lightning import PalSolClassifier\n",
    "import pandas as pd\n",
    "from pathlib import Path\n",
    "from torchsummary import summary\n",
    "from torch.utils.data import DataLoader\n",
    "import pytorch_lightning as pl\n",
    "import torch\n",
    "from tqdm.auto import tqdm\n",
    "import numpy as np\n"
   ]
  },
  {
   "cell_type": "code",
   "execution_count": 2,
   "metadata": {},
   "outputs": [],
   "source": [
    "data_dir = Path('../data')\n",
    "df = pd.read_csv('../data/train.csv')\n",
    "paths = [data_dir / path for path in df['fn'].values]\n",
    "labels = df['label'].values"
   ]
  },
  {
   "cell_type": "code",
   "execution_count": 3,
   "metadata": {
    "tags": []
   },
   "outputs": [
    {
     "output_type": "stream",
     "name": "stderr",
     "text": "Loading files: 100%|██████████| 1109/1109 [00:11<00:00, 100.53it/s]\n"
    }
   ],
   "source": [
    "ds = ZindiAudioDataset(54243, 22050, paths, labels)"
   ]
  },
  {
   "cell_type": "code",
   "execution_count": 4,
   "metadata": {},
   "outputs": [],
   "source": [
    "loader = DataLoader(ds, batch_size=32)"
   ]
  },
  {
   "cell_type": "code",
   "execution_count": 5,
   "metadata": {},
   "outputs": [],
   "source": [
    "clf = PalSolClassifier(num_classes=len(ds.le.classes_), sample_rate=22050)"
   ]
  },
  {
   "cell_type": "code",
   "execution_count": 8,
   "metadata": {
    "tags": []
   },
   "outputs": [
    {
     "output_type": "stream",
     "name": "stderr",
     "text": "psutil is not installed. You will not be able to abort this experiment from the UI.\npsutil is not installed. Hardware metrics will not be collected.\nhttps://ui.neptune.ai/astromid/sandbox/e/SAN-1\nNeptuneLogger will work in online mode\n"
    }
   ],
   "source": [
    "from pytorch_lightning.loggers import NeptuneLogger\n",
    "\n",
    "neptune_logger = NeptuneLogger(\n",
    "    project_name='astromid/sandbox',\n",
    "    experiment_name='test',\n",
    "    params={'max_epochs': 5},\n",
    ")"
   ]
  },
  {
   "cell_type": "code",
   "execution_count": 9,
   "metadata": {
    "tags": []
   },
   "outputs": [
    {
     "output_type": "stream",
     "name": "stderr",
     "text": "GPU available: True, used: True\nTPU available: False, using: 0 TPU cores\nCUDA_VISIBLE_DEVICES: [0]\n"
    }
   ],
   "source": [
    "trainer = pl.Trainer(gpus=1, max_epochs=5, logger=neptune_logger)"
   ]
  },
  {
   "cell_type": "code",
   "execution_count": 10,
   "metadata": {
    "tags": []
   },
   "outputs": [
    {
     "output_type": "stream",
     "name": "stderr",
     "text": "\n  | Name  | Type        | Params\n--------------------------------------\n0 | model | PalSolModel | 935 K \nEpoch 4: 100%|██████████| 35/35 [00:19<00:00,  1.76it/s, loss=3.985, v_num=AN-1]Saving latest checkpoint..\nEpoch 4: 100%|██████████| 35/35 [00:19<00:00,  1.75it/s, loss=3.985, v_num=AN-1]\n"
    },
    {
     "output_type": "execute_result",
     "data": {
      "text/plain": "1"
     },
     "metadata": {},
     "execution_count": 10
    }
   ],
   "source": [
    "trainer.fit(clf, loader)"
   ]
  },
  {
   "cell_type": "code",
   "execution_count": 11,
   "metadata": {},
   "outputs": [],
   "source": [
    "sub = pd.read_csv('../data/SampleSubmission.csv')"
   ]
  },
  {
   "cell_type": "code",
   "execution_count": 18,
   "metadata": {},
   "outputs": [],
   "source": [
    "test_paths = [data_dir / path for path in sub['fn'].values]"
   ]
  },
  {
   "cell_type": "code",
   "execution_count": 22,
   "metadata": {
    "tags": []
   },
   "outputs": [
    {
     "output_type": "stream",
     "name": "stderr",
     "text": "Loading files: 100%|██████████| 1017/1017 [00:08<00:00, 114.60it/s]\n"
    }
   ],
   "source": [
    "test_ds = ZindiAudioDataset(54243, 22050, test_paths)"
   ]
  },
  {
   "cell_type": "code",
   "execution_count": 26,
   "metadata": {},
   "outputs": [],
   "source": [
    "clf = clf.eval()"
   ]
  },
  {
   "cell_type": "code",
   "execution_count": 51,
   "metadata": {
    "tags": []
   },
   "outputs": [
    {
     "output_type": "stream",
     "name": "stderr",
     "text": "100%|██████████| 1017/1017 [01:06<00:00, 15.38it/s]\n"
    }
   ],
   "source": [
    "probs = []\n",
    "with torch.no_grad():\n",
    "    for item in tqdm(test_ds):\n",
    "        logits = clf(item.unsqueeze(0))\n",
    "        probs.append(torch.nn.functional.softmax(logits).numpy())"
   ]
  },
  {
   "cell_type": "code",
   "execution_count": 52,
   "metadata": {},
   "outputs": [],
   "source": [
    "probs_matrix = np.vstack(probs)\n",
    "new_sub = pd.DataFrame(probs_matrix)\n",
    "# new_sub.columns = ds.le.classes_\n",
    "# new_sub.values = probs_matrix"
   ]
  },
  {
   "cell_type": "code",
   "execution_count": 43,
   "metadata": {},
   "outputs": [
    {
     "output_type": "execute_result",
     "data": {
      "text/plain": "(1017, 193)"
     },
     "metadata": {},
     "execution_count": 43
    }
   ],
   "source": [
    "new_sub['fn'] = sub['fn']"
   ]
  },
  {
   "cell_type": "code",
   "execution_count": 54,
   "metadata": {},
   "outputs": [],
   "source": [
    "new_sub.columns = ds.le.classes_"
   ]
  },
  {
   "cell_type": "code",
   "execution_count": 55,
   "metadata": {},
   "outputs": [
    {
     "output_type": "execute_result",
     "data": {
      "text/plain": "       Pump   Spinach   abalimi  afukirira  agriculture  akammwanyi  akamonde  \\\n0  0.012175  0.002343  0.008473   0.003873     0.011243    0.004418  0.002169   \n1  0.004885  0.002677  0.008709   0.020518     0.005466    0.011951  0.017236   \n2  0.001335  0.002567  0.005726   0.003267     0.001290    0.001728  0.004658   \n3  0.049555  0.000507  0.002672   0.002595     0.013128    0.016373  0.010434   \n4  0.002854  0.002721  0.006294   0.003672     0.005224    0.002702  0.003550   \n\n   akasaanyi  akatunda  akatungulu  ...   suckers  sugarcane  sukumawiki  \\\n0   0.010284  0.004583    0.004816  ...  0.007943   0.002807    0.002287   \n1   0.009939  0.006564    0.013447  ...  0.005540   0.002088    0.002369   \n2   0.000800  0.003714    0.005663  ...  0.001452   0.003533    0.002494   \n3   0.008203  0.002858    0.005017  ...  0.030116   0.001026    0.000938   \n4   0.002318  0.005443    0.004982  ...  0.003256   0.003643    0.002264   \n\n   super grow  sweet potatoes  tomatoes  vegetables  watermelon   weeding  \\\n0    0.003243        0.001718  0.004745    0.003433    0.002362  0.003323   \n1    0.001096        0.001761  0.002434    0.002804    0.001064  0.001397   \n2    0.003664        0.003812  0.003583    0.004573    0.004816  0.004851   \n3    0.001808        0.000691  0.001015    0.001118    0.000548  0.000327   \n4    0.004063        0.002669  0.004179    0.004302    0.004263  0.003964   \n\n       worm  \n0  0.006075  \n1  0.003076  \n2  0.001428  \n3  0.013761  \n4  0.003377  \n\n[5 rows x 193 columns]",
      "text/html": "<div>\n<style scoped>\n    .dataframe tbody tr th:only-of-type {\n        vertical-align: middle;\n    }\n\n    .dataframe tbody tr th {\n        vertical-align: top;\n    }\n\n    .dataframe thead th {\n        text-align: right;\n    }\n</style>\n<table border=\"1\" class=\"dataframe\">\n  <thead>\n    <tr style=\"text-align: right;\">\n      <th></th>\n      <th>Pump</th>\n      <th>Spinach</th>\n      <th>abalimi</th>\n      <th>afukirira</th>\n      <th>agriculture</th>\n      <th>akammwanyi</th>\n      <th>akamonde</th>\n      <th>akasaanyi</th>\n      <th>akatunda</th>\n      <th>akatungulu</th>\n      <th>...</th>\n      <th>suckers</th>\n      <th>sugarcane</th>\n      <th>sukumawiki</th>\n      <th>super grow</th>\n      <th>sweet potatoes</th>\n      <th>tomatoes</th>\n      <th>vegetables</th>\n      <th>watermelon</th>\n      <th>weeding</th>\n      <th>worm</th>\n    </tr>\n  </thead>\n  <tbody>\n    <tr>\n      <th>0</th>\n      <td>0.012175</td>\n      <td>0.002343</td>\n      <td>0.008473</td>\n      <td>0.003873</td>\n      <td>0.011243</td>\n      <td>0.004418</td>\n      <td>0.002169</td>\n      <td>0.010284</td>\n      <td>0.004583</td>\n      <td>0.004816</td>\n      <td>...</td>\n      <td>0.007943</td>\n      <td>0.002807</td>\n      <td>0.002287</td>\n      <td>0.003243</td>\n      <td>0.001718</td>\n      <td>0.004745</td>\n      <td>0.003433</td>\n      <td>0.002362</td>\n      <td>0.003323</td>\n      <td>0.006075</td>\n    </tr>\n    <tr>\n      <th>1</th>\n      <td>0.004885</td>\n      <td>0.002677</td>\n      <td>0.008709</td>\n      <td>0.020518</td>\n      <td>0.005466</td>\n      <td>0.011951</td>\n      <td>0.017236</td>\n      <td>0.009939</td>\n      <td>0.006564</td>\n      <td>0.013447</td>\n      <td>...</td>\n      <td>0.005540</td>\n      <td>0.002088</td>\n      <td>0.002369</td>\n      <td>0.001096</td>\n      <td>0.001761</td>\n      <td>0.002434</td>\n      <td>0.002804</td>\n      <td>0.001064</td>\n      <td>0.001397</td>\n      <td>0.003076</td>\n    </tr>\n    <tr>\n      <th>2</th>\n      <td>0.001335</td>\n      <td>0.002567</td>\n      <td>0.005726</td>\n      <td>0.003267</td>\n      <td>0.001290</td>\n      <td>0.001728</td>\n      <td>0.004658</td>\n      <td>0.000800</td>\n      <td>0.003714</td>\n      <td>0.005663</td>\n      <td>...</td>\n      <td>0.001452</td>\n      <td>0.003533</td>\n      <td>0.002494</td>\n      <td>0.003664</td>\n      <td>0.003812</td>\n      <td>0.003583</td>\n      <td>0.004573</td>\n      <td>0.004816</td>\n      <td>0.004851</td>\n      <td>0.001428</td>\n    </tr>\n    <tr>\n      <th>3</th>\n      <td>0.049555</td>\n      <td>0.000507</td>\n      <td>0.002672</td>\n      <td>0.002595</td>\n      <td>0.013128</td>\n      <td>0.016373</td>\n      <td>0.010434</td>\n      <td>0.008203</td>\n      <td>0.002858</td>\n      <td>0.005017</td>\n      <td>...</td>\n      <td>0.030116</td>\n      <td>0.001026</td>\n      <td>0.000938</td>\n      <td>0.001808</td>\n      <td>0.000691</td>\n      <td>0.001015</td>\n      <td>0.001118</td>\n      <td>0.000548</td>\n      <td>0.000327</td>\n      <td>0.013761</td>\n    </tr>\n    <tr>\n      <th>4</th>\n      <td>0.002854</td>\n      <td>0.002721</td>\n      <td>0.006294</td>\n      <td>0.003672</td>\n      <td>0.005224</td>\n      <td>0.002702</td>\n      <td>0.003550</td>\n      <td>0.002318</td>\n      <td>0.005443</td>\n      <td>0.004982</td>\n      <td>...</td>\n      <td>0.003256</td>\n      <td>0.003643</td>\n      <td>0.002264</td>\n      <td>0.004063</td>\n      <td>0.002669</td>\n      <td>0.004179</td>\n      <td>0.004302</td>\n      <td>0.004263</td>\n      <td>0.003964</td>\n      <td>0.003377</td>\n    </tr>\n  </tbody>\n</table>\n<p>5 rows × 193 columns</p>\n</div>"
     },
     "metadata": {},
     "execution_count": 55
    }
   ],
   "source": [
    "new_sub.head()"
   ]
  },
  {
   "cell_type": "code",
   "execution_count": 56,
   "metadata": {},
   "outputs": [],
   "source": [
    "new_sub.insert(0, 'fn', sub['fn'])"
   ]
  },
  {
   "cell_type": "code",
   "execution_count": 57,
   "metadata": {},
   "outputs": [
    {
     "output_type": "execute_result",
     "data": {
      "text/plain": "                        fn      Pump   Spinach   abalimi  afukirira  \\\n0  audio_files/00118N3.wav  0.012175  0.002343  0.008473   0.003873   \n1  audio_files/00P0NMV.wav  0.004885  0.002677  0.008709   0.020518   \n2  audio_files/01QEEZI.wav  0.001335  0.002567  0.005726   0.003267   \n3  audio_files/037YAED.wav  0.049555  0.000507  0.002672   0.002595   \n4  audio_files/0382N0Y.wav  0.002854  0.002721  0.006294   0.003672   \n\n   agriculture  akammwanyi  akamonde  akasaanyi  akatunda  ...   suckers  \\\n0     0.011243    0.004418  0.002169   0.010284  0.004583  ...  0.007943   \n1     0.005466    0.011951  0.017236   0.009939  0.006564  ...  0.005540   \n2     0.001290    0.001728  0.004658   0.000800  0.003714  ...  0.001452   \n3     0.013128    0.016373  0.010434   0.008203  0.002858  ...  0.030116   \n4     0.005224    0.002702  0.003550   0.002318  0.005443  ...  0.003256   \n\n   sugarcane  sukumawiki  super grow  sweet potatoes  tomatoes  vegetables  \\\n0   0.002807    0.002287    0.003243        0.001718  0.004745    0.003433   \n1   0.002088    0.002369    0.001096        0.001761  0.002434    0.002804   \n2   0.003533    0.002494    0.003664        0.003812  0.003583    0.004573   \n3   0.001026    0.000938    0.001808        0.000691  0.001015    0.001118   \n4   0.003643    0.002264    0.004063        0.002669  0.004179    0.004302   \n\n   watermelon   weeding      worm  \n0    0.002362  0.003323  0.006075  \n1    0.001064  0.001397  0.003076  \n2    0.004816  0.004851  0.001428  \n3    0.000548  0.000327  0.013761  \n4    0.004263  0.003964  0.003377  \n\n[5 rows x 194 columns]",
      "text/html": "<div>\n<style scoped>\n    .dataframe tbody tr th:only-of-type {\n        vertical-align: middle;\n    }\n\n    .dataframe tbody tr th {\n        vertical-align: top;\n    }\n\n    .dataframe thead th {\n        text-align: right;\n    }\n</style>\n<table border=\"1\" class=\"dataframe\">\n  <thead>\n    <tr style=\"text-align: right;\">\n      <th></th>\n      <th>fn</th>\n      <th>Pump</th>\n      <th>Spinach</th>\n      <th>abalimi</th>\n      <th>afukirira</th>\n      <th>agriculture</th>\n      <th>akammwanyi</th>\n      <th>akamonde</th>\n      <th>akasaanyi</th>\n      <th>akatunda</th>\n      <th>...</th>\n      <th>suckers</th>\n      <th>sugarcane</th>\n      <th>sukumawiki</th>\n      <th>super grow</th>\n      <th>sweet potatoes</th>\n      <th>tomatoes</th>\n      <th>vegetables</th>\n      <th>watermelon</th>\n      <th>weeding</th>\n      <th>worm</th>\n    </tr>\n  </thead>\n  <tbody>\n    <tr>\n      <th>0</th>\n      <td>audio_files/00118N3.wav</td>\n      <td>0.012175</td>\n      <td>0.002343</td>\n      <td>0.008473</td>\n      <td>0.003873</td>\n      <td>0.011243</td>\n      <td>0.004418</td>\n      <td>0.002169</td>\n      <td>0.010284</td>\n      <td>0.004583</td>\n      <td>...</td>\n      <td>0.007943</td>\n      <td>0.002807</td>\n      <td>0.002287</td>\n      <td>0.003243</td>\n      <td>0.001718</td>\n      <td>0.004745</td>\n      <td>0.003433</td>\n      <td>0.002362</td>\n      <td>0.003323</td>\n      <td>0.006075</td>\n    </tr>\n    <tr>\n      <th>1</th>\n      <td>audio_files/00P0NMV.wav</td>\n      <td>0.004885</td>\n      <td>0.002677</td>\n      <td>0.008709</td>\n      <td>0.020518</td>\n      <td>0.005466</td>\n      <td>0.011951</td>\n      <td>0.017236</td>\n      <td>0.009939</td>\n      <td>0.006564</td>\n      <td>...</td>\n      <td>0.005540</td>\n      <td>0.002088</td>\n      <td>0.002369</td>\n      <td>0.001096</td>\n      <td>0.001761</td>\n      <td>0.002434</td>\n      <td>0.002804</td>\n      <td>0.001064</td>\n      <td>0.001397</td>\n      <td>0.003076</td>\n    </tr>\n    <tr>\n      <th>2</th>\n      <td>audio_files/01QEEZI.wav</td>\n      <td>0.001335</td>\n      <td>0.002567</td>\n      <td>0.005726</td>\n      <td>0.003267</td>\n      <td>0.001290</td>\n      <td>0.001728</td>\n      <td>0.004658</td>\n      <td>0.000800</td>\n      <td>0.003714</td>\n      <td>...</td>\n      <td>0.001452</td>\n      <td>0.003533</td>\n      <td>0.002494</td>\n      <td>0.003664</td>\n      <td>0.003812</td>\n      <td>0.003583</td>\n      <td>0.004573</td>\n      <td>0.004816</td>\n      <td>0.004851</td>\n      <td>0.001428</td>\n    </tr>\n    <tr>\n      <th>3</th>\n      <td>audio_files/037YAED.wav</td>\n      <td>0.049555</td>\n      <td>0.000507</td>\n      <td>0.002672</td>\n      <td>0.002595</td>\n      <td>0.013128</td>\n      <td>0.016373</td>\n      <td>0.010434</td>\n      <td>0.008203</td>\n      <td>0.002858</td>\n      <td>...</td>\n      <td>0.030116</td>\n      <td>0.001026</td>\n      <td>0.000938</td>\n      <td>0.001808</td>\n      <td>0.000691</td>\n      <td>0.001015</td>\n      <td>0.001118</td>\n      <td>0.000548</td>\n      <td>0.000327</td>\n      <td>0.013761</td>\n    </tr>\n    <tr>\n      <th>4</th>\n      <td>audio_files/0382N0Y.wav</td>\n      <td>0.002854</td>\n      <td>0.002721</td>\n      <td>0.006294</td>\n      <td>0.003672</td>\n      <td>0.005224</td>\n      <td>0.002702</td>\n      <td>0.003550</td>\n      <td>0.002318</td>\n      <td>0.005443</td>\n      <td>...</td>\n      <td>0.003256</td>\n      <td>0.003643</td>\n      <td>0.002264</td>\n      <td>0.004063</td>\n      <td>0.002669</td>\n      <td>0.004179</td>\n      <td>0.004302</td>\n      <td>0.004263</td>\n      <td>0.003964</td>\n      <td>0.003377</td>\n    </tr>\n  </tbody>\n</table>\n<p>5 rows × 194 columns</p>\n</div>"
     },
     "metadata": {},
     "execution_count": 57
    }
   ],
   "source": [
    "new_sub.head()"
   ]
  },
  {
   "cell_type": "code",
   "execution_count": 58,
   "metadata": {},
   "outputs": [],
   "source": [
    "new_sub.to_csv('test_sub.csv', index=False)"
   ]
  },
  {
   "cell_type": "code",
   "execution_count": null,
   "metadata": {},
   "outputs": [],
   "source": []
  }
 ],
 "metadata": {
  "kernelspec": {
   "display_name": "Python 3",
   "language": "python",
   "name": "python3"
  },
  "language_info": {
   "codemirror_mode": {
    "name": "ipython",
    "version": 3
   },
   "file_extension": ".py",
   "mimetype": "text/x-python",
   "name": "python",
   "nbconvert_exporter": "python",
   "pygments_lexer": "ipython3",
   "version": "3.8.5-final"
  }
 },
 "nbformat": 4,
 "nbformat_minor": 4
}