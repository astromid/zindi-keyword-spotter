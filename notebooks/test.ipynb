{
 "cells": [
  {
   "cell_type": "code",
   "execution_count": 2,
   "metadata": {},
   "outputs": [],
   "source": [
    "from zindi_keyword_spotter.dataset import ZindiAudioDataset\n",
    "from zindi_keyword_spotter.models import SeResNet3\n",
    "from zindi_keyword_spotter.lightning import PLClassifier, ZindiDataModule\n",
    "import pandas as pd\n",
    "from pathlib import Path\n",
    "from torchsummary import summary\n",
    "from torch.utils.data import DataLoader\n",
    "import pytorch_lightning as pl\n",
    "import torch\n",
    "from tqdm import tqdm\n",
    "import numpy as np\n",
    "from sklearn.model_selection import train_test_split"
   ]
  },
  {
   "cell_type": "code",
   "execution_count": 3,
   "metadata": {},
   "outputs": [
    {
     "output_type": "execute_result",
     "data": {
      "text/plain": [
       "14300631"
      ]
     },
     "metadata": {},
     "execution_count": 3
    }
   ],
   "source": [
    "pl.seed_everything(14300631)"
   ]
  },
  {
   "cell_type": "code",
   "execution_count": 3,
   "metadata": {},
   "outputs": [],
   "source": [
    "data_dir = Path('../data')\n",
    "df = pd.read_csv(data_dir / 'train.csv')"
   ]
  },
  {
   "cell_type": "code",
   "execution_count": 4,
   "metadata": {},
   "outputs": [],
   "source": [
    "train_df, val_df = train_test_split(df, stratify=df['label'], test_size=0.3, random_state=42)"
   ]
  },
  {
   "cell_type": "code",
   "execution_count": 5,
   "metadata": {
    "tags": []
   },
   "outputs": [
    {
     "output_type": "display_data",
     "data": {
      "text/plain": "HBox(children=(FloatProgress(value=0.0, description='Loading files', max=776.0, style=ProgressStyle(descriptio…",
      "application/vnd.jupyter.widget-view+json": {
       "version_major": 2,
       "version_minor": 0,
       "model_id": "fe5026e5bf0c4cbd93b1a1bdc72681ba"
      }
     },
     "metadata": {}
    },
    {
     "output_type": "stream",
     "name": "stdout",
     "text": "\n"
    },
    {
     "output_type": "display_data",
     "data": {
      "text/plain": "HBox(children=(FloatProgress(value=0.0, description='Loading files', max=333.0, style=ProgressStyle(descriptio…",
      "application/vnd.jupyter.widget-view+json": {
       "version_major": 2,
       "version_minor": 0,
       "model_id": "bd6ffd8608bd447f93ed2ffa819abc5e"
      }
     },
     "metadata": {}
    },
    {
     "output_type": "stream",
     "name": "stdout",
     "text": "\n"
    }
   ],
   "source": [
    "train_ds = ZindiAudioDataset(\n",
    "    54243,\n",
    "    22050,\n",
    "    [data_dir / path for path in train_df['fn'].values],\n",
    "    train_df['label'].values,\n",
    ")\n",
    "val_ds = ZindiAudioDataset(\n",
    "    54243,\n",
    "    22050,\n",
    "    [data_dir / path for path in val_df['fn'].values],\n",
    "    val_df['label'].values,\n",
    ")"
   ]
  },
  {
   "cell_type": "code",
   "execution_count": 6,
   "metadata": {},
   "outputs": [],
   "source": [
    "train_loader = DataLoader(train_ds, batch_size=128)\n",
    "val_loader = DataLoader(val_ds, batch_size=128)"
   ]
  },
  {
   "cell_type": "code",
   "execution_count": 7,
   "metadata": {},
   "outputs": [],
   "source": [
    "clf = PalSolClassifier(num_classes=len(train_ds.le.classes_), sample_rate=22050)"
   ]
  },
  {
   "cell_type": "code",
   "execution_count": 8,
   "metadata": {
    "tags": []
   },
   "outputs": [
    {
     "output_type": "stream",
     "name": "stdout",
     "text": "https://ui.neptune.ai/astromid/zindi-keyword-spotter/e/ZIN-5\nNeptuneLogger will work in online mode\n"
    }
   ],
   "source": [
    "from pytorch_lightning.loggers import NeptuneLogger\n",
    "\n",
    "neptune_logger = NeptuneLogger(\n",
    "    project_name='astromid/zindi-keyword-spotter',\n",
    "    experiment_name='test',\n",
    "    params={'max_epochs': 50},\n",
    "    api_key='eyJhcGlfYWRkcmVzcyI6Imh0dHBzOi8vdWkubmVwdHVuZS5haSIsImFwaV91cmwiOiJodHRwczovL3VpLm5lcHR1bmUuYWkiLCJhcGlfa2V5IjoiNGJmN2RiYjMtZmNjZS00YmQyLWI3MjItZTk2YzMwMmY3YjI0In0='\n",
    ")"
   ]
  },
  {
   "cell_type": "code",
   "execution_count": 9,
   "metadata": {
    "tags": []
   },
   "outputs": [
    {
     "output_type": "stream",
     "name": "stderr",
     "text": "GPU available: True, used: True\nTPU available: False, using: 0 TPU cores\nCUDA_VISIBLE_DEVICES: [0,1]\n"
    }
   ],
   "source": [
    "trainer = pl.Trainer(gpus=2, max_epochs=50, logger=neptune_logger, distributed_backend='dp')"
   ]
  },
  {
   "cell_type": "code",
   "execution_count": 10,
   "metadata": {
    "tags": []
   },
   "outputs": [
    {
     "output_type": "stream",
     "name": "stderr",
     "text": "\n  | Name  | Type        | Params\n--------------------------------------\n0 | model | PalSolModel | 935 K \n"
    },
    {
     "output_type": "display_data",
     "data": {
      "text/plain": "HBox(children=(FloatProgress(value=1.0, bar_style='info', description='Validation sanity check', layout=Layout…",
      "application/vnd.jupyter.widget-view+json": {
       "version_major": 2,
       "version_minor": 0,
       "model_id": "74d70ecea5924b3e850ed6033b80f713"
      }
     },
     "metadata": {}
    },
    {
     "output_type": "display_data",
     "data": {
      "text/plain": "HBox(children=(FloatProgress(value=1.0, bar_style='info', description='Training', layout=Layout(flex='2'), max…",
      "application/vnd.jupyter.widget-view+json": {
       "version_major": 2,
       "version_minor": 0,
       "model_id": "f4ce5c46ccdb48f9a12e06a89c307ace"
      }
     },
     "metadata": {}
    },
    {
     "output_type": "display_data",
     "data": {
      "text/plain": "HBox(children=(FloatProgress(value=1.0, bar_style='info', description='Validating', layout=Layout(flex='2'), m…",
      "application/vnd.jupyter.widget-view+json": {
       "version_major": 2,
       "version_minor": 0,
       "model_id": "99bb0bd8d8cb4192a11ba7a84ae2754e"
      }
     },
     "metadata": {}
    },
    {
     "output_type": "display_data",
     "data": {
      "text/plain": "HBox(children=(FloatProgress(value=1.0, bar_style='info', description='Validating', layout=Layout(flex='2'), m…",
      "application/vnd.jupyter.widget-view+json": {
       "version_major": 2,
       "version_minor": 0,
       "model_id": "0697c119432147378b0b03b766552396"
      }
     },
     "metadata": {}
    },
    {
     "output_type": "display_data",
     "data": {
      "text/plain": "HBox(children=(FloatProgress(value=1.0, bar_style='info', description='Validating', layout=Layout(flex='2'), m…",
      "application/vnd.jupyter.widget-view+json": {
       "version_major": 2,
       "version_minor": 0,
       "model_id": "14bf7e4377d740b48101b0c67fd30370"
      }
     },
     "metadata": {}
    },
    {
     "output_type": "display_data",
     "data": {
      "text/plain": "HBox(children=(FloatProgress(value=1.0, bar_style='info', description='Validating', layout=Layout(flex='2'), m…",
      "application/vnd.jupyter.widget-view+json": {
       "version_major": 2,
       "version_minor": 0,
       "model_id": "fbe8718ce7e44195b9644bc6d51e89c1"
      }
     },
     "metadata": {}
    },
    {
     "output_type": "display_data",
     "data": {
      "text/plain": "HBox(children=(FloatProgress(value=1.0, bar_style='info', description='Validating', layout=Layout(flex='2'), m…",
      "application/vnd.jupyter.widget-view+json": {
       "version_major": 2,
       "version_minor": 0,
       "model_id": "d387a1f365e84f9795318f3d1d99be81"
      }
     },
     "metadata": {}
    },
    {
     "output_type": "display_data",
     "data": {
      "text/plain": "HBox(children=(FloatProgress(value=1.0, bar_style='info', description='Validating', layout=Layout(flex='2'), m…",
      "application/vnd.jupyter.widget-view+json": {
       "version_major": 2,
       "version_minor": 0,
       "model_id": "74f478af1868479a8e8c875c82d133d2"
      }
     },
     "metadata": {}
    },
    {
     "output_type": "display_data",
     "data": {
      "text/plain": "HBox(children=(FloatProgress(value=1.0, bar_style='info', description='Validating', layout=Layout(flex='2'), m…",
      "application/vnd.jupyter.widget-view+json": {
       "version_major": 2,
       "version_minor": 0,
       "model_id": "ed9006b59a7845da88a27aeb9ac6fdee"
      }
     },
     "metadata": {}
    },
    {
     "output_type": "display_data",
     "data": {
      "text/plain": "HBox(children=(FloatProgress(value=1.0, bar_style='info', description='Validating', layout=Layout(flex='2'), m…",
      "application/vnd.jupyter.widget-view+json": {
       "version_major": 2,
       "version_minor": 0,
       "model_id": "3fa2040cc9c043b88363a8a41ac9a7bc"
      }
     },
     "metadata": {}
    },
    {
     "output_type": "display_data",
     "data": {
      "text/plain": "HBox(children=(FloatProgress(value=1.0, bar_style='info', description='Validating', layout=Layout(flex='2'), m…",
      "application/vnd.jupyter.widget-view+json": {
       "version_major": 2,
       "version_minor": 0,
       "model_id": "73651247a8254c8897f62dd1cd6693ab"
      }
     },
     "metadata": {}
    },
    {
     "output_type": "display_data",
     "data": {
      "text/plain": "HBox(children=(FloatProgress(value=1.0, bar_style='info', description='Validating', layout=Layout(flex='2'), m…",
      "application/vnd.jupyter.widget-view+json": {
       "version_major": 2,
       "version_minor": 0,
       "model_id": "b2ca61a9e6a4442fb33d08c2444e0de5"
      }
     },
     "metadata": {}
    },
    {
     "output_type": "display_data",
     "data": {
      "text/plain": "HBox(children=(FloatProgress(value=1.0, bar_style='info', description='Validating', layout=Layout(flex='2'), m…",
      "application/vnd.jupyter.widget-view+json": {
       "version_major": 2,
       "version_minor": 0,
       "model_id": "608edae3549b4846bb16ab0ffc5780bc"
      }
     },
     "metadata": {}
    },
    {
     "output_type": "display_data",
     "data": {
      "text/plain": "HBox(children=(FloatProgress(value=1.0, bar_style='info', description='Validating', layout=Layout(flex='2'), m…",
      "application/vnd.jupyter.widget-view+json": {
       "version_major": 2,
       "version_minor": 0,
       "model_id": "fc9e7d483d1743cc909080184774d928"
      }
     },
     "metadata": {}
    },
    {
     "output_type": "display_data",
     "data": {
      "text/plain": "HBox(children=(FloatProgress(value=1.0, bar_style='info', description='Validating', layout=Layout(flex='2'), m…",
      "application/vnd.jupyter.widget-view+json": {
       "version_major": 2,
       "version_minor": 0,
       "model_id": "39df5a9570e44ec0b65759a4a534730c"
      }
     },
     "metadata": {}
    },
    {
     "output_type": "display_data",
     "data": {
      "text/plain": "HBox(children=(FloatProgress(value=1.0, bar_style='info', description='Validating', layout=Layout(flex='2'), m…",
      "application/vnd.jupyter.widget-view+json": {
       "version_major": 2,
       "version_minor": 0,
       "model_id": "01e4304e63e04313a4c18a7ce8fa8aac"
      }
     },
     "metadata": {}
    },
    {
     "output_type": "display_data",
     "data": {
      "text/plain": "HBox(children=(FloatProgress(value=1.0, bar_style='info', description='Validating', layout=Layout(flex='2'), m…",
      "application/vnd.jupyter.widget-view+json": {
       "version_major": 2,
       "version_minor": 0,
       "model_id": "d60af717847d4deb88e73a752a2ec843"
      }
     },
     "metadata": {}
    },
    {
     "output_type": "display_data",
     "data": {
      "text/plain": "HBox(children=(FloatProgress(value=1.0, bar_style='info', description='Validating', layout=Layout(flex='2'), m…",
      "application/vnd.jupyter.widget-view+json": {
       "version_major": 2,
       "version_minor": 0,
       "model_id": "8d309e79c6424b80af901852922335e7"
      }
     },
     "metadata": {}
    },
    {
     "output_type": "display_data",
     "data": {
      "text/plain": "HBox(children=(FloatProgress(value=1.0, bar_style='info', description='Validating', layout=Layout(flex='2'), m…",
      "application/vnd.jupyter.widget-view+json": {
       "version_major": 2,
       "version_minor": 0,
       "model_id": "776a0111f96b4d178b704c9ed071ac55"
      }
     },
     "metadata": {}
    },
    {
     "output_type": "display_data",
     "data": {
      "text/plain": "HBox(children=(FloatProgress(value=1.0, bar_style='info', description='Validating', layout=Layout(flex='2'), m…",
      "application/vnd.jupyter.widget-view+json": {
       "version_major": 2,
       "version_minor": 0,
       "model_id": "951e7e5aa718464e9943c6e70aaecac6"
      }
     },
     "metadata": {}
    },
    {
     "output_type": "display_data",
     "data": {
      "text/plain": "HBox(children=(FloatProgress(value=1.0, bar_style='info', description='Validating', layout=Layout(flex='2'), m…",
      "application/vnd.jupyter.widget-view+json": {
       "version_major": 2,
       "version_minor": 0,
       "model_id": "a463336baa9f4161b8715a2f548984a9"
      }
     },
     "metadata": {}
    },
    {
     "output_type": "display_data",
     "data": {
      "text/plain": "HBox(children=(FloatProgress(value=1.0, bar_style='info', description='Validating', layout=Layout(flex='2'), m…",
      "application/vnd.jupyter.widget-view+json": {
       "version_major": 2,
       "version_minor": 0,
       "model_id": "7f67a15876f640fe9b1557ebf4d0e786"
      }
     },
     "metadata": {}
    },
    {
     "output_type": "display_data",
     "data": {
      "text/plain": "HBox(children=(FloatProgress(value=1.0, bar_style='info', description='Validating', layout=Layout(flex='2'), m…",
      "application/vnd.jupyter.widget-view+json": {
       "version_major": 2,
       "version_minor": 0,
       "model_id": "c4095f6c13b045ecbeec52fc45a0c891"
      }
     },
     "metadata": {}
    },
    {
     "output_type": "display_data",
     "data": {
      "text/plain": "HBox(children=(FloatProgress(value=1.0, bar_style='info', description='Validating', layout=Layout(flex='2'), m…",
      "application/vnd.jupyter.widget-view+json": {
       "version_major": 2,
       "version_minor": 0,
       "model_id": "f20a53cad1b74dafbebfd47a14fe125d"
      }
     },
     "metadata": {}
    },
    {
     "output_type": "display_data",
     "data": {
      "text/plain": "HBox(children=(FloatProgress(value=1.0, bar_style='info', description='Validating', layout=Layout(flex='2'), m…",
      "application/vnd.jupyter.widget-view+json": {
       "version_major": 2,
       "version_minor": 0,
       "model_id": "b98c014694494ba6a757ec8f17d43933"
      }
     },
     "metadata": {}
    },
    {
     "output_type": "display_data",
     "data": {
      "text/plain": "HBox(children=(FloatProgress(value=1.0, bar_style='info', description='Validating', layout=Layout(flex='2'), m…",
      "application/vnd.jupyter.widget-view+json": {
       "version_major": 2,
       "version_minor": 0,
       "model_id": "875b2efff72d4824ab1788cb9104d358"
      }
     },
     "metadata": {}
    },
    {
     "output_type": "display_data",
     "data": {
      "text/plain": "HBox(children=(FloatProgress(value=1.0, bar_style='info', description='Validating', layout=Layout(flex='2'), m…",
      "application/vnd.jupyter.widget-view+json": {
       "version_major": 2,
       "version_minor": 0,
       "model_id": "80b1faea68534721ae16b2c06391c5a7"
      }
     },
     "metadata": {}
    },
    {
     "output_type": "display_data",
     "data": {
      "text/plain": "HBox(children=(FloatProgress(value=1.0, bar_style='info', description='Validating', layout=Layout(flex='2'), m…",
      "application/vnd.jupyter.widget-view+json": {
       "version_major": 2,
       "version_minor": 0,
       "model_id": "8381a3c7369e40ac82c8fe35339104ba"
      }
     },
     "metadata": {}
    },
    {
     "output_type": "display_data",
     "data": {
      "text/plain": "HBox(children=(FloatProgress(value=1.0, bar_style='info', description='Validating', layout=Layout(flex='2'), m…",
      "application/vnd.jupyter.widget-view+json": {
       "version_major": 2,
       "version_minor": 0,
       "model_id": "04b15802aea24f38a621e6ad6147ffbd"
      }
     },
     "metadata": {}
    },
    {
     "output_type": "display_data",
     "data": {
      "text/plain": "HBox(children=(FloatProgress(value=1.0, bar_style='info', description='Validating', layout=Layout(flex='2'), m…",
      "application/vnd.jupyter.widget-view+json": {
       "version_major": 2,
       "version_minor": 0,
       "model_id": "f2fe2bb02a044c24ab331fef7882dcb6"
      }
     },
     "metadata": {}
    },
    {
     "output_type": "display_data",
     "data": {
      "text/plain": "HBox(children=(FloatProgress(value=1.0, bar_style='info', description='Validating', layout=Layout(flex='2'), m…",
      "application/vnd.jupyter.widget-view+json": {
       "version_major": 2,
       "version_minor": 0,
       "model_id": "0bc9852540d74d889032ec990c8bcce1"
      }
     },
     "metadata": {}
    },
    {
     "output_type": "display_data",
     "data": {
      "text/plain": "HBox(children=(FloatProgress(value=1.0, bar_style='info', description='Validating', layout=Layout(flex='2'), m…",
      "application/vnd.jupyter.widget-view+json": {
       "version_major": 2,
       "version_minor": 0,
       "model_id": "9e3760b37375443580772c304415cd18"
      }
     },
     "metadata": {}
    },
    {
     "output_type": "display_data",
     "data": {
      "text/plain": "HBox(children=(FloatProgress(value=1.0, bar_style='info', description='Validating', layout=Layout(flex='2'), m…",
      "application/vnd.jupyter.widget-view+json": {
       "version_major": 2,
       "version_minor": 0,
       "model_id": "cd7ae011329a469eabeeffbfd3108f77"
      }
     },
     "metadata": {}
    },
    {
     "output_type": "display_data",
     "data": {
      "text/plain": "HBox(children=(FloatProgress(value=1.0, bar_style='info', description='Validating', layout=Layout(flex='2'), m…",
      "application/vnd.jupyter.widget-view+json": {
       "version_major": 2,
       "version_minor": 0,
       "model_id": "b813b6e6d5ff485eaf9a1150ed3457fc"
      }
     },
     "metadata": {}
    },
    {
     "output_type": "display_data",
     "data": {
      "text/plain": "HBox(children=(FloatProgress(value=1.0, bar_style='info', description='Validating', layout=Layout(flex='2'), m…",
      "application/vnd.jupyter.widget-view+json": {
       "version_major": 2,
       "version_minor": 0,
       "model_id": "ea4eb3d4d48c4612a0fadf7d8af6cbde"
      }
     },
     "metadata": {}
    },
    {
     "output_type": "display_data",
     "data": {
      "text/plain": "HBox(children=(FloatProgress(value=1.0, bar_style='info', description='Validating', layout=Layout(flex='2'), m…",
      "application/vnd.jupyter.widget-view+json": {
       "version_major": 2,
       "version_minor": 0,
       "model_id": "8064418185e047a194e3f0d4acba023d"
      }
     },
     "metadata": {}
    },
    {
     "output_type": "display_data",
     "data": {
      "text/plain": "HBox(children=(FloatProgress(value=1.0, bar_style='info', description='Validating', layout=Layout(flex='2'), m…",
      "application/vnd.jupyter.widget-view+json": {
       "version_major": 2,
       "version_minor": 0,
       "model_id": "33c9bc72fc7b44e790cc431afdf7c457"
      }
     },
     "metadata": {}
    },
    {
     "output_type": "display_data",
     "data": {
      "text/plain": "HBox(children=(FloatProgress(value=1.0, bar_style='info', description='Validating', layout=Layout(flex='2'), m…",
      "application/vnd.jupyter.widget-view+json": {
       "version_major": 2,
       "version_minor": 0,
       "model_id": "b41d61e6bb514beab0be0150cac48189"
      }
     },
     "metadata": {}
    },
    {
     "output_type": "display_data",
     "data": {
      "text/plain": "HBox(children=(FloatProgress(value=1.0, bar_style='info', description='Validating', layout=Layout(flex='2'), m…",
      "application/vnd.jupyter.widget-view+json": {
       "version_major": 2,
       "version_minor": 0,
       "model_id": "40abaa5ba4604cd095c6ba53e373a4ca"
      }
     },
     "metadata": {}
    },
    {
     "output_type": "display_data",
     "data": {
      "text/plain": "HBox(children=(FloatProgress(value=1.0, bar_style='info', description='Validating', layout=Layout(flex='2'), m…",
      "application/vnd.jupyter.widget-view+json": {
       "version_major": 2,
       "version_minor": 0,
       "model_id": "2d2c8b9a15214dd5afd1ec2d26a35c74"
      }
     },
     "metadata": {}
    },
    {
     "output_type": "display_data",
     "data": {
      "text/plain": "HBox(children=(FloatProgress(value=1.0, bar_style='info', description='Validating', layout=Layout(flex='2'), m…",
      "application/vnd.jupyter.widget-view+json": {
       "version_major": 2,
       "version_minor": 0,
       "model_id": "0a482d9722574f66bd3695a2725fbf89"
      }
     },
     "metadata": {}
    },
    {
     "output_type": "display_data",
     "data": {
      "text/plain": "HBox(children=(FloatProgress(value=1.0, bar_style='info', description='Validating', layout=Layout(flex='2'), m…",
      "application/vnd.jupyter.widget-view+json": {
       "version_major": 2,
       "version_minor": 0,
       "model_id": "b028a3d9f0c1439ea74986aa4fb6f4e7"
      }
     },
     "metadata": {}
    },
    {
     "output_type": "display_data",
     "data": {
      "text/plain": "HBox(children=(FloatProgress(value=1.0, bar_style='info', description='Validating', layout=Layout(flex='2'), m…",
      "application/vnd.jupyter.widget-view+json": {
       "version_major": 2,
       "version_minor": 0,
       "model_id": "3d8c13e6cf344982b8d1601c17198c32"
      }
     },
     "metadata": {}
    },
    {
     "output_type": "display_data",
     "data": {
      "text/plain": "HBox(children=(FloatProgress(value=1.0, bar_style='info', description='Validating', layout=Layout(flex='2'), m…",
      "application/vnd.jupyter.widget-view+json": {
       "version_major": 2,
       "version_minor": 0,
       "model_id": "9ec487561e224503bd3d0b10b1806e4f"
      }
     },
     "metadata": {}
    },
    {
     "output_type": "display_data",
     "data": {
      "text/plain": "HBox(children=(FloatProgress(value=1.0, bar_style='info', description='Validating', layout=Layout(flex='2'), m…",
      "application/vnd.jupyter.widget-view+json": {
       "version_major": 2,
       "version_minor": 0,
       "model_id": "c66c8223b404428a80def1b901b82f3e"
      }
     },
     "metadata": {}
    },
    {
     "output_type": "display_data",
     "data": {
      "text/plain": "HBox(children=(FloatProgress(value=1.0, bar_style='info', description='Validating', layout=Layout(flex='2'), m…",
      "application/vnd.jupyter.widget-view+json": {
       "version_major": 2,
       "version_minor": 0,
       "model_id": "a98f62447f704b8683c72abff1d4fdd6"
      }
     },
     "metadata": {}
    },
    {
     "output_type": "display_data",
     "data": {
      "text/plain": "HBox(children=(FloatProgress(value=1.0, bar_style='info', description='Validating', layout=Layout(flex='2'), m…",
      "application/vnd.jupyter.widget-view+json": {
       "version_major": 2,
       "version_minor": 0,
       "model_id": "54196156b5804fe280f68812a6090675"
      }
     },
     "metadata": {}
    },
    {
     "output_type": "display_data",
     "data": {
      "text/plain": "HBox(children=(FloatProgress(value=1.0, bar_style='info', description='Validating', layout=Layout(flex='2'), m…",
      "application/vnd.jupyter.widget-view+json": {
       "version_major": 2,
       "version_minor": 0,
       "model_id": "df530ea84ed24323b27e2d8b9e4ba98f"
      }
     },
     "metadata": {}
    },
    {
     "output_type": "display_data",
     "data": {
      "text/plain": "HBox(children=(FloatProgress(value=1.0, bar_style='info', description='Validating', layout=Layout(flex='2'), m…",
      "application/vnd.jupyter.widget-view+json": {
       "version_major": 2,
       "version_minor": 0,
       "model_id": "02de75e6da6b4fb8aebb8c21c2715e0a"
      }
     },
     "metadata": {}
    },
    {
     "output_type": "display_data",
     "data": {
      "text/plain": "HBox(children=(FloatProgress(value=1.0, bar_style='info', description='Validating', layout=Layout(flex='2'), m…",
      "application/vnd.jupyter.widget-view+json": {
       "version_major": 2,
       "version_minor": 0,
       "model_id": "48d050d1fa62448e84c447d6507da661"
      }
     },
     "metadata": {}
    },
    {
     "output_type": "display_data",
     "data": {
      "text/plain": "HBox(children=(FloatProgress(value=1.0, bar_style='info', description='Validating', layout=Layout(flex='2'), m…",
      "application/vnd.jupyter.widget-view+json": {
       "version_major": 2,
       "version_minor": 0,
       "model_id": "1a4af7158aa84e2aaa37c756067f9f81"
      }
     },
     "metadata": {}
    },
    {
     "output_type": "display_data",
     "data": {
      "text/plain": "HBox(children=(FloatProgress(value=1.0, bar_style='info', description='Validating', layout=Layout(flex='2'), m…",
      "application/vnd.jupyter.widget-view+json": {
       "version_major": 2,
       "version_minor": 0,
       "model_id": "4d1117ee0d4b418788223f5753316718"
      }
     },
     "metadata": {}
    },
    {
     "output_type": "stream",
     "name": "stderr",
     "text": "Saving latest checkpoint..\n\n"
    },
    {
     "output_type": "execute_result",
     "data": {
      "text/plain": "1"
     },
     "metadata": {},
     "execution_count": 10
    }
   ],
   "source": [
    "trainer.fit(clf, train_loader, val_loader)"
   ]
  },
  {
   "cell_type": "code",
   "execution_count": 5,
   "metadata": {},
   "outputs": [],
   "source": [
    "sub = pd.read_csv('../data/raw/SampleSubmission.csv')"
   ]
  },
  {
   "cell_type": "code",
   "execution_count": 6,
   "metadata": {},
   "outputs": [
    {
     "output_type": "execute_result",
     "data": {
      "text/plain": [
       "                        fn  maize streak virus  disease  okukkoola  muwogo  \\\n",
       "0  audio_files/00118N3.wav                   0        0          0       0   \n",
       "1  audio_files/00P0NMV.wav                   0        0          0       0   \n",
       "2  audio_files/01QEEZI.wav                   0        0          0       0   \n",
       "3  audio_files/037YAED.wav                   0        0          0       0   \n",
       "4  audio_files/0382N0Y.wav                   0        0          0       0   \n",
       "\n",
       "   mpeke  mucungwa  greens  garden  mango  ...  kasaanyi  suckers  insects  \\\n",
       "0      0         0       0       0      0  ...         0        0        0   \n",
       "1      0         0       0       0      0  ...         0        0        0   \n",
       "2      0         0       0       0      0  ...         0        0        0   \n",
       "3      0         0       0       0      0  ...         0        0        0   \n",
       "4      0         0       0       0      0  ...         0        0        0   \n",
       "\n",
       "   fertilizer  nakavundira  ekiwojjolo  akawuka  ddagala  ebiwojjolo  \\\n",
       "0           0            0           0        0        0           0   \n",
       "1           0            0           0        0        0           0   \n",
       "2           0            0           0        0        0           0   \n",
       "3           0            0           0        0        0           0   \n",
       "4           0            0           0        0        0           0   \n",
       "\n",
       "   obutungulu  \n",
       "0           0  \n",
       "1           0  \n",
       "2           0  \n",
       "3           0  \n",
       "4           0  \n",
       "\n",
       "[5 rows x 194 columns]"
      ],
      "text/html": "<div>\n<style scoped>\n    .dataframe tbody tr th:only-of-type {\n        vertical-align: middle;\n    }\n\n    .dataframe tbody tr th {\n        vertical-align: top;\n    }\n\n    .dataframe thead th {\n        text-align: right;\n    }\n</style>\n<table border=\"1\" class=\"dataframe\">\n  <thead>\n    <tr style=\"text-align: right;\">\n      <th></th>\n      <th>fn</th>\n      <th>maize streak virus</th>\n      <th>disease</th>\n      <th>okukkoola</th>\n      <th>muwogo</th>\n      <th>mpeke</th>\n      <th>mucungwa</th>\n      <th>greens</th>\n      <th>garden</th>\n      <th>mango</th>\n      <th>...</th>\n      <th>kasaanyi</th>\n      <th>suckers</th>\n      <th>insects</th>\n      <th>fertilizer</th>\n      <th>nakavundira</th>\n      <th>ekiwojjolo</th>\n      <th>akawuka</th>\n      <th>ddagala</th>\n      <th>ebiwojjolo</th>\n      <th>obutungulu</th>\n    </tr>\n  </thead>\n  <tbody>\n    <tr>\n      <th>0</th>\n      <td>audio_files/00118N3.wav</td>\n      <td>0</td>\n      <td>0</td>\n      <td>0</td>\n      <td>0</td>\n      <td>0</td>\n      <td>0</td>\n      <td>0</td>\n      <td>0</td>\n      <td>0</td>\n      <td>...</td>\n      <td>0</td>\n      <td>0</td>\n      <td>0</td>\n      <td>0</td>\n      <td>0</td>\n      <td>0</td>\n      <td>0</td>\n      <td>0</td>\n      <td>0</td>\n      <td>0</td>\n    </tr>\n    <tr>\n      <th>1</th>\n      <td>audio_files/00P0NMV.wav</td>\n      <td>0</td>\n      <td>0</td>\n      <td>0</td>\n      <td>0</td>\n      <td>0</td>\n      <td>0</td>\n      <td>0</td>\n      <td>0</td>\n      <td>0</td>\n      <td>...</td>\n      <td>0</td>\n      <td>0</td>\n      <td>0</td>\n      <td>0</td>\n      <td>0</td>\n      <td>0</td>\n      <td>0</td>\n      <td>0</td>\n      <td>0</td>\n      <td>0</td>\n    </tr>\n    <tr>\n      <th>2</th>\n      <td>audio_files/01QEEZI.wav</td>\n      <td>0</td>\n      <td>0</td>\n      <td>0</td>\n      <td>0</td>\n      <td>0</td>\n      <td>0</td>\n      <td>0</td>\n      <td>0</td>\n      <td>0</td>\n      <td>...</td>\n      <td>0</td>\n      <td>0</td>\n      <td>0</td>\n      <td>0</td>\n      <td>0</td>\n      <td>0</td>\n      <td>0</td>\n      <td>0</td>\n      <td>0</td>\n      <td>0</td>\n    </tr>\n    <tr>\n      <th>3</th>\n      <td>audio_files/037YAED.wav</td>\n      <td>0</td>\n      <td>0</td>\n      <td>0</td>\n      <td>0</td>\n      <td>0</td>\n      <td>0</td>\n      <td>0</td>\n      <td>0</td>\n      <td>0</td>\n      <td>...</td>\n      <td>0</td>\n      <td>0</td>\n      <td>0</td>\n      <td>0</td>\n      <td>0</td>\n      <td>0</td>\n      <td>0</td>\n      <td>0</td>\n      <td>0</td>\n      <td>0</td>\n    </tr>\n    <tr>\n      <th>4</th>\n      <td>audio_files/0382N0Y.wav</td>\n      <td>0</td>\n      <td>0</td>\n      <td>0</td>\n      <td>0</td>\n      <td>0</td>\n      <td>0</td>\n      <td>0</td>\n      <td>0</td>\n      <td>0</td>\n      <td>...</td>\n      <td>0</td>\n      <td>0</td>\n      <td>0</td>\n      <td>0</td>\n      <td>0</td>\n      <td>0</td>\n      <td>0</td>\n      <td>0</td>\n      <td>0</td>\n      <td>0</td>\n    </tr>\n  </tbody>\n</table>\n<p>5 rows × 194 columns</p>\n</div>"
     },
     "metadata": {},
     "execution_count": 6
    }
   ],
   "source": [
    "sub.head()"
   ]
  },
  {
   "cell_type": "code",
   "execution_count": 7,
   "metadata": {},
   "outputs": [
    {
     "output_type": "execute_result",
     "data": {
      "text/plain": [
       "                        fn      Pump   Spinach       abalimi     afukirira  \\\n",
       "0  audio_files/00118N3.wav  0.000440  0.000526  0.000000e+00  1.000000e-08   \n",
       "1  audio_files/00P0NMV.wav  0.000000  0.000000  0.000000e+00  0.000000e+00   \n",
       "2  audio_files/01QEEZI.wav  0.000000  0.000000  3.000000e-08  0.000000e+00   \n",
       "3  audio_files/037YAED.wav  0.000095  0.000000  0.000000e+00  0.000000e+00   \n",
       "4  audio_files/0382N0Y.wav  0.000000  0.000000  0.000000e+00  0.000000e+00   \n",
       "\n",
       "   agriculture    akammwanyi      akamonde  akasaanyi  akatunda  ...  \\\n",
       "0     0.000002  1.000000e-08  0.000000e+00   0.006462   0.00000  ...   \n",
       "1     0.000000  0.000000e+00  1.650000e-06   0.000000   0.00011  ...   \n",
       "2     0.000000  0.000000e+00  4.000000e-08   0.000000   0.00000  ...   \n",
       "3     0.000002  0.000000e+00  0.000000e+00   0.000000   0.00000  ...   \n",
       "4     0.000000  0.000000e+00  0.000000e+00   0.000000   0.00000  ...   \n",
       "\n",
       "    suckers  sugarcane    sukumawiki    super grow  sweet potatoes  \\\n",
       "0  0.001057   0.000001  5.900000e-07  2.200000e-07    8.300000e-07   \n",
       "1  0.000000   0.000000  0.000000e+00  0.000000e+00    0.000000e+00   \n",
       "2  0.000000   0.000000  0.000000e+00  0.000000e+00    0.000000e+00   \n",
       "3  0.006889   0.000000  4.000000e-08  7.300000e-06    0.000000e+00   \n",
       "4  0.000000   0.000000  1.100000e-07  0.000000e+00    0.000000e+00   \n",
       "\n",
       "       tomatoes  vegetables    watermelon   weeding      worm  \n",
       "0  6.100000e-07    0.009993  5.200000e-07  0.002079  0.000078  \n",
       "1  0.000000e+00    0.000000  6.580000e-06  0.000000  0.000000  \n",
       "2  0.000000e+00    0.000000  0.000000e+00  0.000000  0.000000  \n",
       "3  7.000000e-08    0.000000  0.000000e+00  0.000000  0.000000  \n",
       "4  0.000000e+00    0.000000  0.000000e+00  0.000000  0.000000  \n",
       "\n",
       "[5 rows x 194 columns]"
      ],
      "text/html": "<div>\n<style scoped>\n    .dataframe tbody tr th:only-of-type {\n        vertical-align: middle;\n    }\n\n    .dataframe tbody tr th {\n        vertical-align: top;\n    }\n\n    .dataframe thead th {\n        text-align: right;\n    }\n</style>\n<table border=\"1\" class=\"dataframe\">\n  <thead>\n    <tr style=\"text-align: right;\">\n      <th></th>\n      <th>fn</th>\n      <th>Pump</th>\n      <th>Spinach</th>\n      <th>abalimi</th>\n      <th>afukirira</th>\n      <th>agriculture</th>\n      <th>akammwanyi</th>\n      <th>akamonde</th>\n      <th>akasaanyi</th>\n      <th>akatunda</th>\n      <th>...</th>\n      <th>suckers</th>\n      <th>sugarcane</th>\n      <th>sukumawiki</th>\n      <th>super grow</th>\n      <th>sweet potatoes</th>\n      <th>tomatoes</th>\n      <th>vegetables</th>\n      <th>watermelon</th>\n      <th>weeding</th>\n      <th>worm</th>\n    </tr>\n  </thead>\n  <tbody>\n    <tr>\n      <th>0</th>\n      <td>audio_files/00118N3.wav</td>\n      <td>0.000440</td>\n      <td>0.000526</td>\n      <td>0.000000e+00</td>\n      <td>1.000000e-08</td>\n      <td>0.000002</td>\n      <td>1.000000e-08</td>\n      <td>0.000000e+00</td>\n      <td>0.006462</td>\n      <td>0.00000</td>\n      <td>...</td>\n      <td>0.001057</td>\n      <td>0.000001</td>\n      <td>5.900000e-07</td>\n      <td>2.200000e-07</td>\n      <td>8.300000e-07</td>\n      <td>6.100000e-07</td>\n      <td>0.009993</td>\n      <td>5.200000e-07</td>\n      <td>0.002079</td>\n      <td>0.000078</td>\n    </tr>\n    <tr>\n      <th>1</th>\n      <td>audio_files/00P0NMV.wav</td>\n      <td>0.000000</td>\n      <td>0.000000</td>\n      <td>0.000000e+00</td>\n      <td>0.000000e+00</td>\n      <td>0.000000</td>\n      <td>0.000000e+00</td>\n      <td>1.650000e-06</td>\n      <td>0.000000</td>\n      <td>0.00011</td>\n      <td>...</td>\n      <td>0.000000</td>\n      <td>0.000000</td>\n      <td>0.000000e+00</td>\n      <td>0.000000e+00</td>\n      <td>0.000000e+00</td>\n      <td>0.000000e+00</td>\n      <td>0.000000</td>\n      <td>6.580000e-06</td>\n      <td>0.000000</td>\n      <td>0.000000</td>\n    </tr>\n    <tr>\n      <th>2</th>\n      <td>audio_files/01QEEZI.wav</td>\n      <td>0.000000</td>\n      <td>0.000000</td>\n      <td>3.000000e-08</td>\n      <td>0.000000e+00</td>\n      <td>0.000000</td>\n      <td>0.000000e+00</td>\n      <td>4.000000e-08</td>\n      <td>0.000000</td>\n      <td>0.00000</td>\n      <td>...</td>\n      <td>0.000000</td>\n      <td>0.000000</td>\n      <td>0.000000e+00</td>\n      <td>0.000000e+00</td>\n      <td>0.000000e+00</td>\n      <td>0.000000e+00</td>\n      <td>0.000000</td>\n      <td>0.000000e+00</td>\n      <td>0.000000</td>\n      <td>0.000000</td>\n    </tr>\n    <tr>\n      <th>3</th>\n      <td>audio_files/037YAED.wav</td>\n      <td>0.000095</td>\n      <td>0.000000</td>\n      <td>0.000000e+00</td>\n      <td>0.000000e+00</td>\n      <td>0.000002</td>\n      <td>0.000000e+00</td>\n      <td>0.000000e+00</td>\n      <td>0.000000</td>\n      <td>0.00000</td>\n      <td>...</td>\n      <td>0.006889</td>\n      <td>0.000000</td>\n      <td>4.000000e-08</td>\n      <td>7.300000e-06</td>\n      <td>0.000000e+00</td>\n      <td>7.000000e-08</td>\n      <td>0.000000</td>\n      <td>0.000000e+00</td>\n      <td>0.000000</td>\n      <td>0.000000</td>\n    </tr>\n    <tr>\n      <th>4</th>\n      <td>audio_files/0382N0Y.wav</td>\n      <td>0.000000</td>\n      <td>0.000000</td>\n      <td>0.000000e+00</td>\n      <td>0.000000e+00</td>\n      <td>0.000000</td>\n      <td>0.000000e+00</td>\n      <td>0.000000e+00</td>\n      <td>0.000000</td>\n      <td>0.00000</td>\n      <td>...</td>\n      <td>0.000000</td>\n      <td>0.000000</td>\n      <td>1.100000e-07</td>\n      <td>0.000000e+00</td>\n      <td>0.000000e+00</td>\n      <td>0.000000e+00</td>\n      <td>0.000000</td>\n      <td>0.000000e+00</td>\n      <td>0.000000</td>\n      <td>0.000000</td>\n    </tr>\n  </tbody>\n</table>\n<p>5 rows × 194 columns</p>\n</div>"
     },
     "metadata": {},
     "execution_count": 7
    }
   ],
   "source": [
    "failed_sub = pd.read_csv('../models/seresnet3-11-14_02-08/sub.csv')\n",
    "failed_sub.head()"
   ]
  },
  {
   "cell_type": "code",
   "execution_count": 11,
   "metadata": {},
   "outputs": [],
   "source": [
    "from sklearn.preprocessing import LabelEncoder\n",
    "\n",
    "le = LabelEncoder()\n",
    "le.classes_ = failed_sub.columns.values[1:]"
   ]
  },
  {
   "cell_type": "code",
   "execution_count": 13,
   "metadata": {},
   "outputs": [
    {
     "output_type": "display_data",
     "data": {
      "text/plain": "HBox(children=(HTML(value='Loading test samples'), FloatProgress(value=0.0, max=1017.0), HTML(value='')))",
      "application/vnd.jupyter.widget-view+json": {
       "version_major": 2,
       "version_minor": 0,
       "model_id": "f3d86809c28a497da301df149da8e996"
      }
     },
     "metadata": {}
    },
    {
     "output_type": "stream",
     "name": "stdout",
     "text": [
      "\n"
     ]
    }
   ],
   "source": [
    "test_ds = ZindiAudioDataset(54243, sub, Path('../data/raw'), 'test')"
   ]
  },
  {
   "cell_type": "code",
   "execution_count": 15,
   "metadata": {},
   "outputs": [],
   "source": [
    "model = SeResNet3(193, 424, 22050, 128, 2048, 2.0, True, True)"
   ]
  },
  {
   "cell_type": "code",
   "execution_count": 16,
   "metadata": {},
   "outputs": [],
   "source": [
    "clf = PLClassifier.load_from_checkpoint('../models/seresnet3-11-14_02-08/checkpoints/seresnet3-epoch=86-val_loss=1.648.ckpt', model=model)"
   ]
  },
  {
   "cell_type": "code",
   "execution_count": 17,
   "metadata": {
    "tags": []
   },
   "outputs": [
    {
     "output_type": "stream",
     "name": "stderr",
     "text": [
      "100%|██████████| 1017/1017 [00:29<00:00, 34.62it/s]\n"
     ]
    }
   ],
   "source": [
    "clf.eval()\n",
    "clf.freeze()\n",
    "probs = []\n",
    "with torch.no_grad():\n",
    "    for item in tqdm(test_ds):\n",
    "        logits = clf(item.unsqueeze(0))\n",
    "        probs.append(torch.nn.functional.softmax(logits, dim=1).numpy())"
   ]
  },
  {
   "cell_type": "code",
   "execution_count": 18,
   "metadata": {},
   "outputs": [],
   "source": [
    "probs_matrix = np.vstack(probs)\n",
    "new_sub = pd.DataFrame(probs_matrix)\n",
    "new_sub.columns = failed_sub.columns.values[1:]\n",
    "new_sub.insert(0, 'fn', sub['fn'])"
   ]
  },
  {
   "cell_type": "code",
   "execution_count": 19,
   "metadata": {},
   "outputs": [
    {
     "output_type": "execute_result",
     "data": {
      "text/plain": [
       "                        fn          Pump       Spinach       abalimi  \\\n",
       "0  audio_files/00118N3.wav  5.641948e-03  4.143704e-08  1.400222e-09   \n",
       "1  audio_files/00P0NMV.wav  6.417027e-20  3.501017e-23  3.919457e-16   \n",
       "2  audio_files/01QEEZI.wav  3.381641e-17  1.259146e-12  1.132292e-06   \n",
       "3  audio_files/037YAED.wav  7.842772e-07  9.680712e-25  2.355689e-11   \n",
       "4  audio_files/0382N0Y.wav  4.885486e-16  7.325424e-13  1.013740e-13   \n",
       "\n",
       "      afukirira   agriculture    akammwanyi      akamonde     akasaanyi  \\\n",
       "0  1.179730e-06  8.088420e-06  3.408310e-08  1.547708e-10  7.705254e-05   \n",
       "1  6.152171e-15  9.260789e-17  3.018425e-14  6.795860e-07  3.138221e-15   \n",
       "2  1.997551e-12  6.123494e-19  1.466283e-09  1.950575e-06  9.227673e-12   \n",
       "3  8.499520e-30  2.858377e-11  1.564079e-18  1.014627e-16  1.520115e-11   \n",
       "4  1.040788e-14  1.882770e-15  2.316121e-21  3.754688e-16  8.629038e-21   \n",
       "\n",
       "       akatunda  ...       suckers     sugarcane    sukumawiki    super grow  \\\n",
       "0  1.130162e-06  ...  1.291768e-05  5.844997e-08  1.335717e-08  7.138288e-07   \n",
       "1  5.374686e-07  ...  1.133550e-20  1.312474e-15  2.577132e-21  6.264425e-15   \n",
       "2  8.084641e-13  ...  7.672044e-16  4.293661e-14  2.384056e-13  6.523983e-16   \n",
       "3  2.997650e-26  ...  3.081443e-03  2.557095e-23  5.287222e-16  2.159115e-10   \n",
       "4  1.095940e-17  ...  1.076778e-18  2.860123e-12  2.028835e-07  2.444872e-16   \n",
       "\n",
       "   sweet potatoes      tomatoes    vegetables    watermelon       weeding  \\\n",
       "0    6.160971e-07  2.044306e-06  2.977405e-04  1.721608e-05  6.705738e-03   \n",
       "1    2.288776e-14  3.207303e-11  1.045194e-16  9.441094e-07  1.772470e-16   \n",
       "2    9.866707e-16  1.419034e-12  1.353088e-13  8.709121e-11  7.779886e-11   \n",
       "3    9.321445e-30  2.092328e-13  7.420534e-25  2.052813e-21  2.221583e-12   \n",
       "4    3.076526e-13  4.583120e-09  2.572578e-14  7.951188e-13  7.615045e-09   \n",
       "\n",
       "           worm  \n",
       "0  7.313037e-06  \n",
       "1  3.907579e-21  \n",
       "2  2.819822e-11  \n",
       "3  2.410583e-18  \n",
       "4  1.187632e-17  \n",
       "\n",
       "[5 rows x 194 columns]"
      ],
      "text/html": "<div>\n<style scoped>\n    .dataframe tbody tr th:only-of-type {\n        vertical-align: middle;\n    }\n\n    .dataframe tbody tr th {\n        vertical-align: top;\n    }\n\n    .dataframe thead th {\n        text-align: right;\n    }\n</style>\n<table border=\"1\" class=\"dataframe\">\n  <thead>\n    <tr style=\"text-align: right;\">\n      <th></th>\n      <th>fn</th>\n      <th>Pump</th>\n      <th>Spinach</th>\n      <th>abalimi</th>\n      <th>afukirira</th>\n      <th>agriculture</th>\n      <th>akammwanyi</th>\n      <th>akamonde</th>\n      <th>akasaanyi</th>\n      <th>akatunda</th>\n      <th>...</th>\n      <th>suckers</th>\n      <th>sugarcane</th>\n      <th>sukumawiki</th>\n      <th>super grow</th>\n      <th>sweet potatoes</th>\n      <th>tomatoes</th>\n      <th>vegetables</th>\n      <th>watermelon</th>\n      <th>weeding</th>\n      <th>worm</th>\n    </tr>\n  </thead>\n  <tbody>\n    <tr>\n      <th>0</th>\n      <td>audio_files/00118N3.wav</td>\n      <td>5.641948e-03</td>\n      <td>4.143704e-08</td>\n      <td>1.400222e-09</td>\n      <td>1.179730e-06</td>\n      <td>8.088420e-06</td>\n      <td>3.408310e-08</td>\n      <td>1.547708e-10</td>\n      <td>7.705254e-05</td>\n      <td>1.130162e-06</td>\n      <td>...</td>\n      <td>1.291768e-05</td>\n      <td>5.844997e-08</td>\n      <td>1.335717e-08</td>\n      <td>7.138288e-07</td>\n      <td>6.160971e-07</td>\n      <td>2.044306e-06</td>\n      <td>2.977405e-04</td>\n      <td>1.721608e-05</td>\n      <td>6.705738e-03</td>\n      <td>7.313037e-06</td>\n    </tr>\n    <tr>\n      <th>1</th>\n      <td>audio_files/00P0NMV.wav</td>\n      <td>6.417027e-20</td>\n      <td>3.501017e-23</td>\n      <td>3.919457e-16</td>\n      <td>6.152171e-15</td>\n      <td>9.260789e-17</td>\n      <td>3.018425e-14</td>\n      <td>6.795860e-07</td>\n      <td>3.138221e-15</td>\n      <td>5.374686e-07</td>\n      <td>...</td>\n      <td>1.133550e-20</td>\n      <td>1.312474e-15</td>\n      <td>2.577132e-21</td>\n      <td>6.264425e-15</td>\n      <td>2.288776e-14</td>\n      <td>3.207303e-11</td>\n      <td>1.045194e-16</td>\n      <td>9.441094e-07</td>\n      <td>1.772470e-16</td>\n      <td>3.907579e-21</td>\n    </tr>\n    <tr>\n      <th>2</th>\n      <td>audio_files/01QEEZI.wav</td>\n      <td>3.381641e-17</td>\n      <td>1.259146e-12</td>\n      <td>1.132292e-06</td>\n      <td>1.997551e-12</td>\n      <td>6.123494e-19</td>\n      <td>1.466283e-09</td>\n      <td>1.950575e-06</td>\n      <td>9.227673e-12</td>\n      <td>8.084641e-13</td>\n      <td>...</td>\n      <td>7.672044e-16</td>\n      <td>4.293661e-14</td>\n      <td>2.384056e-13</td>\n      <td>6.523983e-16</td>\n      <td>9.866707e-16</td>\n      <td>1.419034e-12</td>\n      <td>1.353088e-13</td>\n      <td>8.709121e-11</td>\n      <td>7.779886e-11</td>\n      <td>2.819822e-11</td>\n    </tr>\n    <tr>\n      <th>3</th>\n      <td>audio_files/037YAED.wav</td>\n      <td>7.842772e-07</td>\n      <td>9.680712e-25</td>\n      <td>2.355689e-11</td>\n      <td>8.499520e-30</td>\n      <td>2.858377e-11</td>\n      <td>1.564079e-18</td>\n      <td>1.014627e-16</td>\n      <td>1.520115e-11</td>\n      <td>2.997650e-26</td>\n      <td>...</td>\n      <td>3.081443e-03</td>\n      <td>2.557095e-23</td>\n      <td>5.287222e-16</td>\n      <td>2.159115e-10</td>\n      <td>9.321445e-30</td>\n      <td>2.092328e-13</td>\n      <td>7.420534e-25</td>\n      <td>2.052813e-21</td>\n      <td>2.221583e-12</td>\n      <td>2.410583e-18</td>\n    </tr>\n    <tr>\n      <th>4</th>\n      <td>audio_files/0382N0Y.wav</td>\n      <td>4.885486e-16</td>\n      <td>7.325424e-13</td>\n      <td>1.013740e-13</td>\n      <td>1.040788e-14</td>\n      <td>1.882770e-15</td>\n      <td>2.316121e-21</td>\n      <td>3.754688e-16</td>\n      <td>8.629038e-21</td>\n      <td>1.095940e-17</td>\n      <td>...</td>\n      <td>1.076778e-18</td>\n      <td>2.860123e-12</td>\n      <td>2.028835e-07</td>\n      <td>2.444872e-16</td>\n      <td>3.076526e-13</td>\n      <td>4.583120e-09</td>\n      <td>2.572578e-14</td>\n      <td>7.951188e-13</td>\n      <td>7.615045e-09</td>\n      <td>1.187632e-17</td>\n    </tr>\n  </tbody>\n</table>\n<p>5 rows × 194 columns</p>\n</div>"
     },
     "metadata": {},
     "execution_count": 19
    }
   ],
   "source": [
    "new_sub.head()"
   ]
  },
  {
   "cell_type": "code",
   "execution_count": 28,
   "metadata": {},
   "outputs": [],
   "source": [
    "new_sub.to_csv('../models/seresnet3-11-14_02-08/submission.csv', float_format='%.8f', index=False, header=True)"
   ]
  },
  {
   "cell_type": "code",
   "execution_count": null,
   "metadata": {},
   "outputs": [],
   "source": []
  }
 ],
 "metadata": {
  "kernelspec": {
   "display_name": "Python 3",
   "language": "python",
   "name": "python3"
  },
  "language_info": {
   "codemirror_mode": {
    "name": "ipython",
    "version": 3
   },
   "file_extension": ".py",
   "mimetype": "text/x-python",
   "name": "python",
   "nbconvert_exporter": "python",
   "pygments_lexer": "ipython3",
   "version": "3.8.5-final"
  }
 },
 "nbformat": 4,
 "nbformat_minor": 4
}