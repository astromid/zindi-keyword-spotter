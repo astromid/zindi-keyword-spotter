{
 "cells": [
  {
   "cell_type": "code",
   "execution_count": 1,
   "metadata": {},
   "outputs": [],
   "source": [
    "from dataset import ZindiAudioDataset\n",
    "from models import PalSolModel\n",
    "import pandas as pd\n",
    "from pathlib import Path\n",
    "from torchsummary import summary\n",
    "from torch.utils.data import DataLoader\n"
   ]
  },
  {
   "cell_type": "code",
   "execution_count": 2,
   "metadata": {},
   "outputs": [],
   "source": [
    "data_dir = Path('../data')\n",
    "df = pd.read_csv('../data/train.csv')\n",
    "paths = [data_dir / path for path in df['fn'].values]\n",
    "labels = df['label'].values"
   ]
  },
  {
   "cell_type": "code",
   "execution_count": 3,
   "metadata": {
    "tags": []
   },
   "outputs": [
    {
     "output_type": "stream",
     "name": "stderr",
     "text": "Loading files: 100%|██████████| 1109/1109 [00:00<00:00, 2392.86it/s]\n"
    }
   ],
   "source": [
    "ds = ZindiAudioDataset(54243, 22050, paths, labels)"
   ]
  },
  {
   "cell_type": "code",
   "execution_count": 4,
   "metadata": {},
   "outputs": [
    {
     "output_type": "execute_result",
     "data": {
      "text/plain": "torch.Size([16, 54243])"
     },
     "metadata": {},
     "execution_count": 4
    }
   ],
   "source": [
    "loader = DataLoader(ds, batch_size=16)\n",
    "batch, labels = next(loader.__iter__())\n",
    "batch.shape"
   ]
  },
  {
   "cell_type": "code",
   "execution_count": 5,
   "metadata": {},
   "outputs": [],
   "source": [
    "model = PalSolModel(num_classes=190, sample_rate=22050)"
   ]
  },
  {
   "cell_type": "code",
   "execution_count": 6,
   "metadata": {
    "tags": []
   },
   "outputs": [
    {
     "output_type": "stream",
     "name": "stdout",
     "text": "==========================================================================================\nLayer (type:depth-idx)                   Output Shape              Param #\n==========================================================================================\n├─MelSpectrogram: 1-1                    [-1, 128, 272]            --\n|    └─Spectrogram: 2-1                  [-1, 201, 272]            --\n|    └─MelScale: 2-2                     [-1, 128, 272]            --\n├─BatchNorm2d: 1-2                       [-1, 1, 128, 272]         2\n├─Conv2d: 1-3                            [-1, 32, 127, 271]        160\n├─Conv2d: 1-4                            [-1, 32, 125, 269]        9,248\n├─MaxPool2d: 1-5                         [-1, 32, 62, 134]         --\n├─Dropout: 1-6                           [-1, 32, 62, 134]         --\n├─Conv2d: 1-7                            [-1, 48, 60, 132]         13,872\n├─Conv2d: 1-8                            [-1, 48, 58, 130]         20,784\n├─MaxPool2d: 1-9                         [-1, 48, 29, 65]          --\n├─Dropout: 1-10                          [-1, 48, 29, 65]          --\n├─Conv2d: 1-11                           [-1, 96, 27, 63]          41,568\n├─MaxPool2d: 1-12                        [-1, 96, 13, 31]          --\n├─Dropout: 1-13                          [-1, 96, 13, 31]          --\n├─Conv2d: 1-14                           [-1, 128, 11, 29]         110,720\n├─MaxPool2d: 1-15                        [-1, 128, 5, 14]          --\n├─Dropout: 1-16                          [-1, 128, 5, 14]          --\n├─Conv2d: 1-17                           [-1, 256, 3, 12]          295,168\n├─MaxPool2d: 1-18                        [-1, 256, 1, 6]           --\n├─Dropout: 1-19                          [-1, 256, 1, 6]           --\n├─Linear: 1-20                           [-1, 256]                 393,472\n├─BatchNorm1d: 1-21                      [-1, 256]                 512\n├─Linear: 1-22                           [-1, 190]                 48,830\n==========================================================================================\nTotal params: 934,336\nTrainable params: 934,336\nNon-trainable params: 0\nTotal mult-adds (M): 697.01\n==========================================================================================\nInput size (MB): 3.31\nForward/backward pass size (MB): 24.17\nParams size (MB): 3.56\nEstimated Total Size (MB): 31.05\n==========================================================================================\n"
    },
    {
     "output_type": "execute_result",
     "data": {
      "text/plain": "==========================================================================================\nLayer (type:depth-idx)                   Output Shape              Param #\n==========================================================================================\n├─MelSpectrogram: 1-1                    [-1, 128, 272]            --\n|    └─Spectrogram: 2-1                  [-1, 201, 272]            --\n|    └─MelScale: 2-2                     [-1, 128, 272]            --\n├─BatchNorm2d: 1-2                       [-1, 1, 128, 272]         2\n├─Conv2d: 1-3                            [-1, 32, 127, 271]        160\n├─Conv2d: 1-4                            [-1, 32, 125, 269]        9,248\n├─MaxPool2d: 1-5                         [-1, 32, 62, 134]         --\n├─Dropout: 1-6                           [-1, 32, 62, 134]         --\n├─Conv2d: 1-7                            [-1, 48, 60, 132]         13,872\n├─Conv2d: 1-8                            [-1, 48, 58, 130]         20,784\n├─MaxPool2d: 1-9                         [-1, 48, 29, 65]          --\n├─Dropout: 1-10                          [-1, 48, 29, 65]          --\n├─Conv2d: 1-11                           [-1, 96, 27, 63]          41,568\n├─MaxPool2d: 1-12                        [-1, 96, 13, 31]          --\n├─Dropout: 1-13                          [-1, 96, 13, 31]          --\n├─Conv2d: 1-14                           [-1, 128, 11, 29]         110,720\n├─MaxPool2d: 1-15                        [-1, 128, 5, 14]          --\n├─Dropout: 1-16                          [-1, 128, 5, 14]          --\n├─Conv2d: 1-17                           [-1, 256, 3, 12]          295,168\n├─MaxPool2d: 1-18                        [-1, 256, 1, 6]           --\n├─Dropout: 1-19                          [-1, 256, 1, 6]           --\n├─Linear: 1-20                           [-1, 256]                 393,472\n├─BatchNorm1d: 1-21                      [-1, 256]                 512\n├─Linear: 1-22                           [-1, 190]                 48,830\n==========================================================================================\nTotal params: 934,336\nTrainable params: 934,336\nNon-trainable params: 0\nTotal mult-adds (M): 697.01\n==========================================================================================\nInput size (MB): 3.31\nForward/backward pass size (MB): 24.17\nParams size (MB): 3.56\nEstimated Total Size (MB): 31.05\n=========================================================================================="
     },
     "metadata": {},
     "execution_count": 6
    }
   ],
   "source": [
    "\n",
    "\n",
    "summary(model, batch, device='cpu')"
   ]
  },
  {
   "cell_type": "code",
   "execution_count": 11,
   "metadata": {},
   "outputs": [],
   "source": [
    "out = model(batch[0])"
   ]
  },
  {
   "cell_type": "code",
   "execution_count": 12,
   "metadata": {},
   "outputs": [
    {
     "output_type": "execute_result",
     "data": {
      "text/plain": "torch.Size([16, 38688])"
     },
     "metadata": {},
     "execution_count": 12
    }
   ],
   "source": [
    "out.shape"
   ]
  },
  {
   "cell_type": "code",
   "execution_count": 13,
   "metadata": {
    "tags": []
   },
   "outputs": [
    {
     "output_type": "stream",
     "name": "stdout",
     "text": "==========================================================================================\nLayer (type:depth-idx)                   Output Shape              Param #\n==========================================================================================\n├─MelSpectrogram: 1-1                    [-1, 128, 272]            --\n|    └─Spectrogram: 2-1                  [-1, 201, 272]            --\n|    └─MelScale: 2-2                     [-1, 128, 272]            --\n├─BatchNorm2d: 1-2                       [-1, 1, 128, 272]         2\n├─Conv2d: 1-3                            [-1, 32, 127, 271]        160\n├─Conv2d: 1-4                            [-1, 32, 126, 270]        4,128\n├─Conv2d: 1-5                            [-1, 48, 61, 133]         13,872\n├─Conv2d: 1-6                            [-1, 48, 59, 131]         20,784\n├─Conv2d: 1-7                            [-1, 96, 27, 63]          41,568\n==========================================================================================\nTotal params: 80,514\nTrainable params: 80,514\nNon-trainable params: 0\nTotal mult-adds (M): 486.72\n==========================================================================================\nInput size (MB): 3.31\nForward/backward pass size (MB): 24.02\nParams size (MB): 0.31\nEstimated Total Size (MB): 27.64\n==========================================================================================\n"
    },
    {
     "output_type": "execute_result",
     "data": {
      "text/plain": "==========================================================================================\nLayer (type:depth-idx)                   Output Shape              Param #\n==========================================================================================\n├─MelSpectrogram: 1-1                    [-1, 128, 272]            --\n|    └─Spectrogram: 2-1                  [-1, 201, 272]            --\n|    └─MelScale: 2-2                     [-1, 128, 272]            --\n├─BatchNorm2d: 1-2                       [-1, 1, 128, 272]         2\n├─Conv2d: 1-3                            [-1, 32, 127, 271]        160\n├─Conv2d: 1-4                            [-1, 32, 126, 270]        4,128\n├─Conv2d: 1-5                            [-1, 48, 61, 133]         13,872\n├─Conv2d: 1-6                            [-1, 48, 59, 131]         20,784\n├─Conv2d: 1-7                            [-1, 96, 27, 63]          41,568\n==========================================================================================\nTotal params: 80,514\nTrainable params: 80,514\nNon-trainable params: 0\nTotal mult-adds (M): 486.72\n==========================================================================================\nInput size (MB): 3.31\nForward/backward pass size (MB): 24.02\nParams size (MB): 0.31\nEstimated Total Size (MB): 27.64\n=========================================================================================="
     },
     "metadata": {},
     "execution_count": 13
    }
   ],
   "source": []
  },
  {
   "cell_type": "code",
   "execution_count": null,
   "metadata": {},
   "outputs": [],
   "source": []
  }
 ],
 "metadata": {
  "kernelspec": {
   "display_name": "Python 3",
   "language": "python",
   "name": "python3"
  },
  "language_info": {
   "codemirror_mode": {
    "name": "ipython",
    "version": 3
   },
   "file_extension": ".py",
   "mimetype": "text/x-python",
   "name": "python",
   "nbconvert_exporter": "python",
   "pygments_lexer": "ipython3",
   "version": "3.8.5-final"
  }
 },
 "nbformat": 4,
 "nbformat_minor": 4
}